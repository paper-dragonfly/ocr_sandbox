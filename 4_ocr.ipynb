{
 "cells": [
  {
   "cell_type": "markdown",
   "metadata": {},
   "source": [
    "# OSR"
   ]
  },
  {
   "cell_type": "markdown",
   "metadata": {},
   "source": [
    "### Extract data from image using pytesseract"
   ]
  },
  {
   "cell_type": "code",
   "execution_count": 157,
   "metadata": {},
   "outputs": [],
   "source": [
    "import cv2\n",
    "import json\n",
    "from matplotlib import pyplot as plt\n",
    "import numpy as np\n",
    "import pytesseract"
   ]
  },
  {
   "cell_type": "code",
   "execution_count": 158,
   "metadata": {},
   "outputs": [
    {
     "name": "stdout",
     "output_type": "stream",
     "text": [
      "“2000m\n",
      "\n",
      "Jul 012022\n",
      "\n",
      "maa 2000 1547 31 |\n",
      "\n",
      "1:24.3\n",
      "1:33.95\n",
      "1:34.2\n",
      ":35.1\n",
      "1:31.3\n",
      "\n",
      "400\n",
      "500\n",
      "1200\n",
      "1600\n",
      "2000\n",
      "\n",
      "1:45.3\n",
      "1:57.3\n",
      "L527\"\n",
      "LSS\n",
      "354.1\n",
      "\n",
      "37\n",
      "23\n",
      "28,\n",
      "28\n",
      "24\n",
      "\n"
     ]
    }
   ],
   "source": [
    "ocr_dict = {'img_id':'2'}\n",
    "for snip in ['s_wo', 's_date', 's_summary', 's_time', 's_dist', 's_split', 's_sr']:\n",
    "    if snip in ['s_wo', 's_date', 's_summary']:\n",
    "        psm = '--psm 13'\n",
    "    else:\n",
    "        psm ='--psm 6'\n",
    "    filename = f\"temp/{snip}.jpg\"\n",
    "    image = cv2.imread(filename)\n",
    "    gray = cv2.cvtColor(image, cv2.COLOR_BGR2GRAY)\n",
    "    blur = cv2.GaussianBlur(gray, (1,1), 0)\n",
    "    thresh = cv2.threshold(blur, 0, 255, cv2.THRESH_BINARY_INV + cv2.THRESH_OTSU)[1]\n",
    "    data = pytesseract.image_to_string(thresh, lang='eng', config=psm)\n",
    "    ocr_dict[f'{snip[2:]}'] = data\n",
    "    print(data)\n",
    "\n",
    "# Serializing json\n",
    "json_object = json.dumps(ocr_dict)\n",
    "# Writing to sample.json\n",
    "with open(\"results.json\", \"w\") as outfile:\n",
    "    outfile.write(json_object)"
   ]
  },
  {
   "cell_type": "code",
   "execution_count": 159,
   "metadata": {},
   "outputs": [
    {
     "name": "stdout",
     "output_type": "stream",
     "text": [
      " a fish\n"
     ]
    }
   ],
   "source": [
    "s = ' a -+.fish'\n",
    "s2 = ''\n",
    "for i in range(len(s)):\n",
    "    if not (s[i]) in ['-','+','.']:\n",
    "        s2 += s[i]\n",
    "print(s2)"
   ]
  }
 ],
 "metadata": {
  "kernelspec": {
   "display_name": "Python 3.9.6 ('.venvocr': venv)",
   "language": "python",
   "name": "python3"
  },
  "language_info": {
   "codemirror_mode": {
    "name": "ipython",
    "version": 3
   },
   "file_extension": ".py",
   "mimetype": "text/x-python",
   "name": "python",
   "nbconvert_exporter": "python",
   "pygments_lexer": "ipython3",
   "version": "3.9.6"
  },
  "orig_nbformat": 4,
  "vscode": {
   "interpreter": {
    "hash": "da0d8fba3f8b1e1c67bbcc963a5c65d4ce1a5b92eb84cc4e6d07cf60ccd0d0d8"
   }
  }
 },
 "nbformat": 4,
 "nbformat_minor": 2
}
