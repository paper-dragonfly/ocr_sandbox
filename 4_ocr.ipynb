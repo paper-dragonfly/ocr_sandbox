{
 "cells": [
  {
   "cell_type": "markdown",
   "metadata": {},
   "source": [
    "# OSR"
   ]
  },
  {
   "cell_type": "markdown",
   "metadata": {},
   "source": [
    "### Extract data from image using pytesseract"
   ]
  },
  {
   "cell_type": "code",
   "execution_count": 147,
   "metadata": {},
   "outputs": [],
   "source": [
    "import cv2\n",
    "import json\n",
    "from matplotlib import pyplot as plt\n",
    "import numpy as np\n",
    "import pytesseract"
   ]
  },
  {
   "cell_type": "code",
   "execution_count": 149,
   "metadata": {},
   "outputs": [
    {
     "name": "stdout",
     "output_type": "stream",
     "text": [
      "“A000\n",
      "\n",
      "‘Apr 19 2021\"\n",
      "\n",
      "~4:00,0 1048 .1:5545 31 |\n",
      "\n",
      "°1:00.0 -\n",
      "2:00.60 :\n",
      "3:00.0\n",
      "\n",
      "400.0\"\n",
      "\n",
      "\"268.\n",
      "263!\n",
      "258 |\n",
      "260\n",
      "\n",
      "1:51.39\n",
      "1:54.0\n",
      "1:56,2\n",
      "1:55.3\n",
      "\n",
      "33\n",
      "31\n",
      "30\n",
      "31\n",
      "\n"
     ]
    }
   ],
   "source": [
    "ocr_dict = {'img_id':1}\n",
    "for snip in ['s_wo', 's_date', 's_summary', 's_time', 's_dist', 's_split', 's_sr']:\n",
    "    if snip in ['s_wo', 's_date', 's_summary']:\n",
    "        psm = '--psm 13'\n",
    "    else:\n",
    "        psm ='--psm 6'\n",
    "    filename = f\"temp/{snip}.jpg\"\n",
    "    image = cv2.imread(filename)\n",
    "    gray = cv2.cvtColor(image, cv2.COLOR_BGR2GRAY)\n",
    "    blur = cv2.GaussianBlur(gray, (1,1), 0)\n",
    "    thresh = cv2.threshold(blur, 0, 255, cv2.THRESH_BINARY_INV + cv2.THRESH_OTSU)[1]\n",
    "    data = pytesseract.image_to_string(thresh, lang='eng', config=psm)\n",
    "    ocr_dict[f'{snip[2:]}'] = data\n",
    "    print(data)\n",
    "\n",
    "# Serializing json\n",
    "json_object = json.dumps(ocr_dict)\n",
    "# Writing to sample.json\n",
    "with open(\"results.json\", \"w\") as outfile:\n",
    "    outfile.write(json_object)"
   ]
  },
  {
   "cell_type": "code",
   "execution_count": 156,
   "metadata": {},
   "outputs": [
    {
     "name": "stdout",
     "output_type": "stream",
     "text": [
      " a fish\n"
     ]
    }
   ],
   "source": [
    "s = ' a -+.fish'\n",
    "s2 = ''\n",
    "for i in range(len(s)):\n",
    "    if not (s[i]) in ['-','+','.']:\n",
    "        s2 += s[i]\n",
    "print(s2)"
   ]
  }
 ],
 "metadata": {
  "kernelspec": {
   "display_name": "Python 3.9.6 ('.venvocr': venv)",
   "language": "python",
   "name": "python3"
  },
  "language_info": {
   "codemirror_mode": {
    "name": "ipython",
    "version": 3
   },
   "file_extension": ".py",
   "mimetype": "text/x-python",
   "name": "python",
   "nbconvert_exporter": "python",
   "pygments_lexer": "ipython3",
   "version": "3.9.6"
  },
  "orig_nbformat": 4,
  "vscode": {
   "interpreter": {
    "hash": "da0d8fba3f8b1e1c67bbcc963a5c65d4ce1a5b92eb84cc4e6d07cf60ccd0d0d8"
   }
  }
 },
 "nbformat": 4,
 "nbformat_minor": 2
}
