{
 "cells": [
  {
   "cell_type": "markdown",
   "metadata": {},
   "source": [
    "# OSR"
   ]
  },
  {
   "cell_type": "markdown",
   "metadata": {},
   "source": [
    "### Extract data from image using pytesseract"
   ]
  },
  {
   "cell_type": "code",
   "execution_count": 1,
   "metadata": {},
   "outputs": [],
   "source": [
    "import cv2\n",
    "import json\n",
    "from matplotlib import pyplot as plt\n",
    "import numpy as np\n",
    "import pytesseract"
   ]
  },
  {
   "cell_type": "markdown",
   "metadata": {},
   "source": [
    "NOTE: change img_id"
   ]
  },
  {
   "cell_type": "code",
   "execution_count": 2,
   "metadata": {},
   "outputs": [
    {
     "name": "stdout",
     "output_type": "stream",
     "text": [
      "Cy {Sire\n",
      "\n",
      "Bec 212021\n",
      "\n",
      "sqear5 7500 1:53.5 26.\n",
      "\n",
      "S:S6.4\n",
      "SSE, 2\n",
      "oss.2\n",
      "S55.\n",
      "5.83.\n",
      "\n",
      "1st\n",
      "\n",
      ", 150\n",
      "» 1s\n",
      "{ide\n",
      "> 1Sf\n",
      "rs\n",
      "\n",
      "0 1:58\n",
      "oO 1:S2\n",
      "i 1:52\n",
      "10 1353\n",
      "Tie 3s\n",
      "\n",
      "ed\n",
      "P|\n",
      "7\n",
      "3\n",
      "ze)\n",
      "\n"
     ]
    }
   ],
   "source": [
    "ocr_dict = {'img_id':'5'}\n",
    "for snip in ['s_wo', 's_date', 's_summary', 's_time', 's_dist', 's_split', 's_sr']:\n",
    "    if snip in ['s_wo', 's_date', 's_summary']:\n",
    "        psm = '--psm 13'\n",
    "    else:\n",
    "        psm ='--psm 6'\n",
    "    filename = f\"temp/{snip}.jpg\"\n",
    "    image = cv2.imread(filename)\n",
    "    gray = cv2.cvtColor(image, cv2.COLOR_BGR2GRAY)\n",
    "    blur = cv2.GaussianBlur(gray, (1,1), 0)\n",
    "    thresh = cv2.threshold(blur, 0, 255, cv2.THRESH_BINARY_INV + cv2.THRESH_OTSU)[1]\n",
    "    data = pytesseract.image_to_string(thresh, lang='eng', config=psm)\n",
    "    ocr_dict[f'{snip[2:]}'] = data\n",
    "    print(data)\n",
    "\n",
    "# Serializing json\n",
    "json_object = json.dumps(ocr_dict)\n",
    "# Writing to sample.json\n",
    "with open(\"results.json\", \"w\") as outfile:\n",
    "    outfile.write(json_object)"
   ]
  },
  {
   "cell_type": "code",
   "execution_count": null,
   "metadata": {},
   "outputs": [],
   "source": []
  }
 ],
 "metadata": {
  "kernelspec": {
   "display_name": "Python 3.9.6 ('.venvocr': venv)",
   "language": "python",
   "name": "python3"
  },
  "language_info": {
   "codemirror_mode": {
    "name": "ipython",
    "version": 3
   },
   "file_extension": ".py",
   "mimetype": "text/x-python",
   "name": "python",
   "nbconvert_exporter": "python",
   "pygments_lexer": "ipython3",
   "version": "3.9.6"
  },
  "orig_nbformat": 4,
  "vscode": {
   "interpreter": {
    "hash": "da0d8fba3f8b1e1c67bbcc963a5c65d4ce1a5b92eb84cc4e6d07cf60ccd0d0d8"
   }
  }
 },
 "nbformat": 4,
 "nbformat_minor": 2
}
